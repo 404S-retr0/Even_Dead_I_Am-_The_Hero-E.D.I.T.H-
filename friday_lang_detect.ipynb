{
  "nbformat": 4,
  "nbformat_minor": 0,
  "metadata": {
    "colab": {
      "name": "friday_lang_detect.ipynb",
      "provenance": [],
      "collapsed_sections": [],
      "authorship_tag": "ABX9TyPp0wfVU8noucXZhvQ2uJD7",
      "include_colab_link": true
    },
    "kernelspec": {
      "display_name": "Python 3",
      "name": "python3"
    }
  },
  "cells": [
    {
      "cell_type": "markdown",
      "metadata": {
        "id": "view-in-github",
        "colab_type": "text"
      },
      "source": [
        "<a href=\"https://colab.research.google.com/github/404S-retr0/Even_Dead_I_Am-_The_Hero-E.D.I.T.H-/blob/main/friday_lang_detect.ipynb\" target=\"_parent\"><img src=\"https://colab.research.google.com/assets/colab-badge.svg\" alt=\"Open In Colab\"/></a>"
      ]
    },
    {
      "cell_type": "code",
      "metadata": {
        "id": "aIkcl-LdPY-T",
        "colab": {
          "base_uri": "https://localhost:8080/",
          "height": 1000
        },
        "outputId": "3433a6f6-231d-48b3-eac9-742e3bff0765"
      },
      "source": [
        "import string\r\n",
        "import re\r\n",
        "import codecs\r\n",
        "import numpy as np\r\n",
        "import pandas as pd\r\n",
        "import seaborn as sns\r\n",
        "import matplotlib.pyplot as plt\r\n",
        "from sklearn import feature_extraction\r\n",
        "from sklearn import linear_model \r\n",
        "from sklearn import pipeline \r\n",
        "from sklearn import metrics\r\n",
        "from sklearn.model_selection import train_test_split\r\n",
        "!wget https://raw.githubusercontent.com/404S-retr0/Even_Dead_I_Am-_The_Hero-E.D.I.T.H-/main/english_us_wordlist_top_100k.txt\r\n",
        "!wget https://raw.githubusercontent.com/404S-retr0/Even_Dead_I_Am-_The_Hero-E.D.I.T.H-/main/czech_wordlist_top_100k_2016_02_11.txt\r\n",
        "!wget https://raw.githubusercontent.com/404S-retr0/Even_Dead_I_Am-_The_Hero-E.D.I.T.H-/main/croatian_wordlist_top_100k.txt\r\n",
        "!wget https://raw.githubusercontent.com/404S-retr0/Even_Dead_I_Am-_The_Hero-E.D.I.T.H-/main/dutch_wordlist_top_100k_2012_05.txt\r\n",
        "!wget https://raw.githubusercontent.com/404S-retr0/Even_Dead_I_Am-_The_Hero-E.D.I.T.H-/main/danish_wordlist_top_100k_2011_12.txt\r\n",
        "eng_df = pd.read_csv(\"english_us_wordlist_top_100k.txt\",\"utf-8\",header=None,names=[\"English\"]) \r\n",
        "eng_df\r\n",
        "cro_df = pd.read_csv(\"croatian_wordlist_top_100k.txt\",\"utf-8\",header=None,names=[\"Croatian\"]) \r\n",
        "cro_df\r\n",
        "cze_df = pd.read_csv(\"czech_wordlist_top_100k_2016_02_11.txt\",\"utf-8\",header=None,names=[\"Czech\"]) \r\n",
        "cze_df\r\n",
        "dan_df = pd.read_csv(\"danish_wordlist_top_100k_2011_12.txt\",\"utf-8\",header=None,names=[\"Danish\"]) \r\n",
        "dan_df\r\n",
        "dut_df = pd.read_csv(\"dutch_wordlist_top_100k_2012_05.txt\",\"utf-8\",header=None,names=[\"Dutch\"]) \r\n",
        "dut_df"
      ],
      "execution_count": null,
      "outputs": [
        {
          "output_type": "stream",
          "text": [
            "--2021-01-23 18:04:24--  https://raw.githubusercontent.com/404S-retr0/Even_Dead_I_Am-_The_Hero-E.D.I.T.H-/main/english_us_wordlist_top_100k.txt\n",
            "Resolving raw.githubusercontent.com (raw.githubusercontent.com)... 151.101.0.133, 151.101.64.133, 151.101.128.133, ...\n",
            "Connecting to raw.githubusercontent.com (raw.githubusercontent.com)|151.101.0.133|:443... connected.\n",
            "HTTP request sent, awaiting response... 200 OK\n",
            "Length: 3055574 (2.9M) [text/plain]\n",
            "Saving to: ‘english_us_wordlist_top_100k.txt’\n",
            "\n",
            "english_us_wordlist 100%[===================>]   2.91M  --.-KB/s    in 0.1s    \n",
            "\n",
            "2021-01-23 18:04:24 (25.2 MB/s) - ‘english_us_wordlist_top_100k.txt’ saved [3055574/3055574]\n",
            "\n",
            "--2021-01-23 18:04:24--  https://raw.githubusercontent.com/404S-retr0/Even_Dead_I_Am-_The_Hero-E.D.I.T.H-/main/czech_wordlist_top_100k_2016_02_11.txt\n",
            "Resolving raw.githubusercontent.com (raw.githubusercontent.com)... 151.101.0.133, 151.101.64.133, 151.101.128.133, ...\n",
            "Connecting to raw.githubusercontent.com (raw.githubusercontent.com)|151.101.0.133|:443... connected.\n",
            "HTTP request sent, awaiting response... 200 OK\n",
            "Length: 3086910 (2.9M) [text/plain]\n",
            "Saving to: ‘czech_wordlist_top_100k_2016_02_11.txt’\n",
            "\n",
            "czech_wordlist_top_ 100%[===================>]   2.94M  18.5MB/s    in 0.2s    \n",
            "\n",
            "2021-01-23 18:04:25 (18.5 MB/s) - ‘czech_wordlist_top_100k_2016_02_11.txt’ saved [3086910/3086910]\n",
            "\n",
            "--2021-01-23 18:04:25--  https://raw.githubusercontent.com/404S-retr0/Even_Dead_I_Am-_The_Hero-E.D.I.T.H-/main/croatian_wordlist_top_100k.txt\n",
            "Resolving raw.githubusercontent.com (raw.githubusercontent.com)... 151.101.0.133, 151.101.64.133, 151.101.128.133, ...\n",
            "Connecting to raw.githubusercontent.com (raw.githubusercontent.com)|151.101.0.133|:443... connected.\n",
            "HTTP request sent, awaiting response... 200 OK\n",
            "Length: 3135140 (3.0M) [text/plain]\n",
            "Saving to: ‘croatian_wordlist_top_100k.txt’\n",
            "\n",
            "croatian_wordlist_t 100%[===================>]   2.99M  --.-KB/s    in 0.1s    \n",
            "\n",
            "2021-01-23 18:04:26 (20.2 MB/s) - ‘croatian_wordlist_top_100k.txt’ saved [3135140/3135140]\n",
            "\n",
            "--2021-01-23 18:04:26--  https://raw.githubusercontent.com/404S-retr0/Even_Dead_I_Am-_The_Hero-E.D.I.T.H-/main/dutch_wordlist_top_100k_2012_05.txt\n",
            "Resolving raw.githubusercontent.com (raw.githubusercontent.com)... 151.101.0.133, 151.101.64.133, 151.101.128.133, ...\n",
            "Connecting to raw.githubusercontent.com (raw.githubusercontent.com)|151.101.0.133|:443... connected.\n",
            "HTTP request sent, awaiting response... 200 OK\n",
            "Length: 3322132 (3.2M) [text/plain]\n",
            "Saving to: ‘dutch_wordlist_top_100k_2012_05.txt’\n",
            "\n",
            "dutch_wordlist_top_ 100%[===================>]   3.17M  20.3MB/s    in 0.2s    \n",
            "\n",
            "2021-01-23 18:04:26 (20.3 MB/s) - ‘dutch_wordlist_top_100k_2012_05.txt’ saved [3322132/3322132]\n",
            "\n",
            "--2021-01-23 18:04:26--  https://raw.githubusercontent.com/404S-retr0/Even_Dead_I_Am-_The_Hero-E.D.I.T.H-/main/danish_wordlist_top_100k_2011_12.txt\n",
            "Resolving raw.githubusercontent.com (raw.githubusercontent.com)... 151.101.0.133, 151.101.64.133, 151.101.128.133, ...\n",
            "Connecting to raw.githubusercontent.com (raw.githubusercontent.com)|151.101.0.133|:443... connected.\n",
            "HTTP request sent, awaiting response... 200 OK\n",
            "Length: 3320042 (3.2M) [text/plain]\n",
            "Saving to: ‘danish_wordlist_top_100k_2011_12.txt’\n",
            "\n",
            "danish_wordlist_top 100%[===================>]   3.17M  19.0MB/s    in 0.2s    \n",
            "\n",
            "2021-01-23 18:04:27 (19.0 MB/s) - ‘danish_wordlist_top_100k_2011_12.txt’ saved [3320042/3320042]\n",
            "\n"
          ],
          "name": "stdout"
        },
        {
          "output_type": "stream",
          "text": [
            "/usr/local/lib/python3.6/dist-packages/ipykernel_launcher.py:18: ParserWarning: Falling back to the 'python' engine because the 'c' engine does not support regex separators (separators > 1 char and different from '\\s+' are interpreted as regex); you can avoid this warning by specifying engine='python'.\n",
            "/usr/local/lib/python3.6/dist-packages/ipykernel_launcher.py:20: ParserWarning: Falling back to the 'python' engine because the 'c' engine does not support regex separators (separators > 1 char and different from '\\s+' are interpreted as regex); you can avoid this warning by specifying engine='python'.\n",
            "/usr/local/lib/python3.6/dist-packages/ipykernel_launcher.py:22: ParserWarning: Falling back to the 'python' engine because the 'c' engine does not support regex separators (separators > 1 char and different from '\\s+' are interpreted as regex); you can avoid this warning by specifying engine='python'.\n",
            "/usr/local/lib/python3.6/dist-packages/ipykernel_launcher.py:24: ParserWarning: Falling back to the 'python' engine because the 'c' engine does not support regex separators (separators > 1 char and different from '\\s+' are interpreted as regex); you can avoid this warning by specifying engine='python'.\n",
            "/usr/local/lib/python3.6/dist-packages/ipykernel_launcher.py:26: ParserWarning: Falling back to the 'python' engine because the 'c' engine does not support regex separators (separators > 1 char and different from '\\s+' are interpreted as regex); you can avoid this warning by specifying engine='python'.\n"
          ],
          "name": "stderr"
        },
        {
          "output_type": "execute_result",
          "data": {
            "text/html": [
              "<div>\n",
              "<style scoped>\n",
              "    .dataframe tbody tr th:only-of-type {\n",
              "        vertical-align: middle;\n",
              "    }\n",
              "\n",
              "    .dataframe tbody tr th {\n",
              "        vertical-align: top;\n",
              "    }\n",
              "\n",
              "    .dataframe thead th {\n",
              "        text-align: right;\n",
              "    }\n",
              "</style>\n",
              "<table border=\"1\" class=\"dataframe\">\n",
              "  <thead>\n",
              "    <tr style=\"text-align: right;\">\n",
              "      <th></th>\n",
              "      <th>Dutch</th>\n",
              "    </tr>\n",
              "  </thead>\n",
              "  <tbody>\n",
              "    <tr>\n",
              "      <th>0</th>\n",
              "      <td>��1\u0000\\t\u0000d\u0000e\u0000</td>\n",
              "    </tr>\n",
              "    <tr>\n",
              "      <th>1</th>\n",
              "      <td>\u0000</td>\n",
              "    </tr>\n",
              "    <tr>\n",
              "      <th>2</th>\n",
              "      <td>\u00002\u0000\\t\u0000h\u0000e\u0000t\u0000</td>\n",
              "    </tr>\n",
              "    <tr>\n",
              "      <th>3</th>\n",
              "      <td>\u0000</td>\n",
              "    </tr>\n",
              "    <tr>\n",
              "      <th>4</th>\n",
              "      <td>\u00003\u0000\\t\u0000e\u0000e\u0000n\u0000</td>\n",
              "    </tr>\n",
              "    <tr>\n",
              "      <th>...</th>\n",
              "      <td>...</td>\n",
              "    </tr>\n",
              "    <tr>\n",
              "      <th>199996</th>\n",
              "      <td>\u00009\u00009\u00009\u00009\u00009\u0000\\t\u0000o\u0000n\u0000b\u0000e\u0000k\u0000o\u0000m\u0000m\u0000e\u0000r\u0000d\u0000e\u0000</td>\n",
              "    </tr>\n",
              "    <tr>\n",
              "      <th>199997</th>\n",
              "      <td>\u0000</td>\n",
              "    </tr>\n",
              "    <tr>\n",
              "      <th>199998</th>\n",
              "      <td>\u00001\u00000\u00000\u00000\u00000\u00000\u0000\\t\u0000o\u0000p\u0000g\u0000e\u0000s\u0000c\u0000h\u0000u\u0000u\u0000r\u0000d\u0000</td>\n",
              "    </tr>\n",
              "    <tr>\n",
              "      <th>199999</th>\n",
              "      <td>\u0000</td>\n",
              "    </tr>\n",
              "    <tr>\n",
              "      <th>200000</th>\n",
              "      <td>\u0000</td>\n",
              "    </tr>\n",
              "  </tbody>\n",
              "</table>\n",
              "<p>200001 rows × 1 columns</p>\n",
              "</div>"
            ],
            "text/plain": [
              "                                         Dutch\n",
              "0                                  ��1\u0000\\t\u0000d\u0000e\u0000\n",
              "1                                            \u0000\n",
              "2                                 \u00002\u0000\\t\u0000h\u0000e\u0000t\u0000\n",
              "3                                            \u0000\n",
              "4                                 \u00003\u0000\\t\u0000e\u0000e\u0000n\u0000\n",
              "...                                        ...\n",
              "199996  \u00009\u00009\u00009\u00009\u00009\u0000\\t\u0000o\u0000n\u0000b\u0000e\u0000k\u0000o\u0000m\u0000m\u0000e\u0000r\u0000d\u0000e\u0000\n",
              "199997                                       \u0000\n",
              "199998  \u00001\u00000\u00000\u00000\u00000\u00000\u0000\\t\u0000o\u0000p\u0000g\u0000e\u0000s\u0000c\u0000h\u0000u\u0000u\u0000r\u0000d\u0000\n",
              "199999                                       \u0000\n",
              "200000                                       \u0000\n",
              "\n",
              "[200001 rows x 1 columns]"
            ]
          },
          "metadata": {
            "tags": []
          },
          "execution_count": 1
        }
      ]
    },
    {
      "cell_type": "code",
      "metadata": {
        "colab": {
          "base_uri": "https://localhost:8080/"
        },
        "id": "0zB0RcAZd0Qw",
        "outputId": "3f705e40-d772-4b0e-aad0-931cf8701474"
      },
      "source": [
        "for char in string.punctuation:\r\n",
        "  print(char,end=\" \")\r\n",
        "translate_table = dict ((ord(char),None) for char in string.punctuation)"
      ],
      "execution_count": null,
      "outputs": [
        {
          "output_type": "stream",
          "text": [
            "! \" # $ % & ' ( ) * + , - . / : ; < = > ? @ [ \\ ] ^ _ ` { | } ~ "
          ],
          "name": "stdout"
        }
      ]
    },
    {
      "cell_type": "code",
      "metadata": {
        "id": "4r7UoaJYd24T"
      },
      "source": [
        "data_eng = []\r\n",
        "lang_eng = []\r\n",
        "for i,line in eng_df.iterrows():\r\n",
        "  line = line['English']\r\n",
        "  if len(line) !=0:\r\n",
        "    line = line.lower()\r\n",
        "    line = re.sub(r\"\\d+\",\"\",line)\r\n",
        "    line = line.translate(translate_table)\r\n",
        "    data_eng.append(line)\r\n",
        "    lang_eng.append(\"English\")"
      ],
      "execution_count": null,
      "outputs": []
    },
    {
      "cell_type": "code",
      "metadata": {
        "id": "tNoutTfZnTCN"
      },
      "source": [
        "data_cro = []\r\n",
        "lang_cro = []\r\n",
        "for i,line in cro_df.iterrows():\r\n",
        "  line = line['Croatian']\r\n",
        "  if len(line) !=0:\r\n",
        "    line = line.lower()\r\n",
        "    line = re.sub(r\"\\d+\",\"\",line)\r\n",
        "    line = line.translate(translate_table)\r\n",
        "    data_cro.append(line)\r\n",
        "    lang_cro.append(\"Croatian\")"
      ],
      "execution_count": null,
      "outputs": []
    },
    {
      "cell_type": "code",
      "metadata": {
        "id": "k8sZmZHQnUAs"
      },
      "source": [
        "data_cze = []\r\n",
        "lang_cze = []\r\n",
        "for i,line in cze_df.iterrows():\r\n",
        "  line = line['Czech']\r\n",
        "  if len(line) !=0:\r\n",
        "    line = line.lower()\r\n",
        "    line = re.sub(r\"\\d+\",\"\",line)\r\n",
        "    line = line.translate(translate_table)\r\n",
        "    data_cze.append(line)\r\n",
        "    lang_cze.append(\"Czech\")"
      ],
      "execution_count": null,
      "outputs": []
    },
    {
      "cell_type": "code",
      "metadata": {
        "id": "Bh15rvcHnVKP"
      },
      "source": [
        "data_dan = []\r\n",
        "lang_dan = []\r\n",
        "for i,line in dan_df.iterrows():\r\n",
        "  line = line['Danish']\r\n",
        "  if len(line) !=0:\r\n",
        "    line = line.lower()\r\n",
        "    line = re.sub(r\"\\d+\",\"\",line)\r\n",
        "    line = line.translate(translate_table)\r\n",
        "    data_dan.append(line)\r\n",
        "    lang_dan.append(\"Danish\")"
      ],
      "execution_count": null,
      "outputs": []
    },
    {
      "cell_type": "code",
      "metadata": {
        "id": "mq8LAh7knWN4"
      },
      "source": [
        "data_dut = []\r\n",
        "lang_dut = []\r\n",
        "for i,line in dut_df.iterrows():\r\n",
        "  line = line['Dutch']\r\n",
        "  if len(line) !=0:\r\n",
        "    line = line.lower()\r\n",
        "    line = re.sub(r\"\\d+\",\"\",line)\r\n",
        "    line = line.translate(translate_table)\r\n",
        "    data_dut.append(line)\r\n",
        "    lang_dut.append(\"Dutch\")"
      ],
      "execution_count": null,
      "outputs": []
    },
    {
      "cell_type": "code",
      "metadata": {
        "id": "cTw6q5CcgFQi",
        "colab": {
          "base_uri": "https://localhost:8080/",
          "height": 435
        },
        "outputId": "3faa0219-98a5-402b-fe09-85a9084b6db9"
      },
      "source": [
        "df=pd.DataFrame({\"Text\":data_eng+data_cro+data_cze+data_dan+data_dut,\r\n",
        "                 \"Language\":lang_eng+lang_cro+lang_cze+lang_dan+lang_dut})\r\n",
        "print(df.shape)\r\n",
        "df"
      ],
      "execution_count": null,
      "outputs": [
        {
          "output_type": "stream",
          "text": [
            "(1015528, 2)\n"
          ],
          "name": "stdout"
        },
        {
          "output_type": "execute_result",
          "data": {
            "text/html": [
              "<div>\n",
              "<style scoped>\n",
              "    .dataframe tbody tr th:only-of-type {\n",
              "        vertical-align: middle;\n",
              "    }\n",
              "\n",
              "    .dataframe tbody tr th {\n",
              "        vertical-align: top;\n",
              "    }\n",
              "\n",
              "    .dataframe thead th {\n",
              "        text-align: right;\n",
              "    }\n",
              "</style>\n",
              "<table border=\"1\" class=\"dataframe\">\n",
              "  <thead>\n",
              "    <tr style=\"text-align: right;\">\n",
              "      <th></th>\n",
              "      <th>Text</th>\n",
              "      <th>Language</th>\n",
              "    </tr>\n",
              "  </thead>\n",
              "  <tbody>\n",
              "    <tr>\n",
              "      <th>0</th>\n",
              "      <td>��r\u0000a\u0000n\u0000k\u0000\\t\u0000w\u0000o\u0000r\u0000d\u0000</td>\n",
              "      <td>English</td>\n",
              "    </tr>\n",
              "    <tr>\n",
              "      <th>1</th>\n",
              "      <td>\u0000</td>\n",
              "      <td>English</td>\n",
              "    </tr>\n",
              "    <tr>\n",
              "      <th>2</th>\n",
              "      <td>\u0000\u0000\\t\u0000t\u0000h\u0000e\u0000</td>\n",
              "      <td>English</td>\n",
              "    </tr>\n",
              "    <tr>\n",
              "      <th>3</th>\n",
              "      <td>\u0000</td>\n",
              "      <td>English</td>\n",
              "    </tr>\n",
              "    <tr>\n",
              "      <th>4</th>\n",
              "      <td>\u0000\u0000\\t\u0000t\u0000o\u0000</td>\n",
              "      <td>English</td>\n",
              "    </tr>\n",
              "    <tr>\n",
              "      <th>...</th>\n",
              "      <td>...</td>\n",
              "      <td>...</td>\n",
              "    </tr>\n",
              "    <tr>\n",
              "      <th>1015523</th>\n",
              "      <td>\u0000\u0000\u0000\u0000\u0000\u0000\\t\u0000o\u0000n\u0000b\u0000e\u0000k\u0000o\u0000m\u0000m\u0000e\u0000r\u0000d\u0000e\u0000</td>\n",
              "      <td>Dutch</td>\n",
              "    </tr>\n",
              "    <tr>\n",
              "      <th>1015524</th>\n",
              "      <td>\u0000</td>\n",
              "      <td>Dutch</td>\n",
              "    </tr>\n",
              "    <tr>\n",
              "      <th>1015525</th>\n",
              "      <td>\u0000\u0000\u0000\u0000\u0000\u0000\u0000\\t\u0000o\u0000p\u0000g\u0000e\u0000s\u0000c\u0000h\u0000u\u0000u\u0000r\u0000d\u0000</td>\n",
              "      <td>Dutch</td>\n",
              "    </tr>\n",
              "    <tr>\n",
              "      <th>1015526</th>\n",
              "      <td>\u0000</td>\n",
              "      <td>Dutch</td>\n",
              "    </tr>\n",
              "    <tr>\n",
              "      <th>1015527</th>\n",
              "      <td>\u0000</td>\n",
              "      <td>Dutch</td>\n",
              "    </tr>\n",
              "  </tbody>\n",
              "</table>\n",
              "<p>1015528 rows × 2 columns</p>\n",
              "</div>"
            ],
            "text/plain": [
              "                                      Text Language\n",
              "0                    ��r\u0000a\u0000n\u0000k\u0000\\t\u0000w\u0000o\u0000r\u0000d\u0000  English\n",
              "1                                        \u0000  English\n",
              "2                              \u0000\u0000\\t\u0000t\u0000h\u0000e\u0000  English\n",
              "3                                        \u0000  English\n",
              "4                                \u0000\u0000\\t\u0000t\u0000o\u0000  English\n",
              "...                                    ...      ...\n",
              "1015523  \u0000\u0000\u0000\u0000\u0000\u0000\\t\u0000o\u0000n\u0000b\u0000e\u0000k\u0000o\u0000m\u0000m\u0000e\u0000r\u0000d\u0000e\u0000    Dutch\n",
              "1015524                                  \u0000    Dutch\n",
              "1015525   \u0000\u0000\u0000\u0000\u0000\u0000\u0000\\t\u0000o\u0000p\u0000g\u0000e\u0000s\u0000c\u0000h\u0000u\u0000u\u0000r\u0000d\u0000    Dutch\n",
              "1015526                                  \u0000    Dutch\n",
              "1015527                                  \u0000    Dutch\n",
              "\n",
              "[1015528 rows x 2 columns]"
            ]
          },
          "metadata": {
            "tags": []
          },
          "execution_count": 8
        }
      ]
    },
    {
      "cell_type": "code",
      "metadata": {
        "id": "pUSqXvb8po7T",
        "colab": {
          "base_uri": "https://localhost:8080/"
        },
        "outputId": "31cd61ae-5643-494f-cd40-9eff9f642f2d"
      },
      "source": [
        "x,y=df.iloc[:,0],df.iloc[:,1]\r\n",
        "x_train,x_test,y_train,y_test=train_test_split(x,y,test_size=0.2,random_state=0)\r\n",
        "\r\n",
        "print(x_train.shape)\r\n",
        "print(x_test.shape)\r\n",
        "print(y_train.shape)\r\n",
        "print(y_test.shape)"
      ],
      "execution_count": null,
      "outputs": [
        {
          "output_type": "stream",
          "text": [
            "(812422,)\n",
            "(203106,)\n",
            "(812422,)\n",
            "(203106,)\n"
          ],
          "name": "stdout"
        }
      ]
    },
    {
      "cell_type": "code",
      "metadata": {
        "id": "9cvLtC4RrKQB"
      },
      "source": [
        "vectorizer = feature_extraction.text.TfidfVectorizer(ngram_range=(1,3),analyzer='char')\r\n",
        "pipe_lr_r13 = pipeline.Pipeline([\r\n",
        "                                 ('vectorizer',vectorizer),\r\n",
        "                                 ('clf',linear_model.LogisticRegression(n_jobs=-1))\r\n",
        "])"
      ],
      "execution_count": null,
      "outputs": []
    },
    {
      "cell_type": "code",
      "metadata": {
        "id": "8jNcvjk9s8po",
        "colab": {
          "base_uri": "https://localhost:8080/"
        },
        "outputId": "cb7e83e8-217b-4248-bae4-9356709ecf8c"
      },
      "source": [
        "pipe_lr_r13.fit(x_train,y_train)"
      ],
      "execution_count": null,
      "outputs": [
        {
          "output_type": "execute_result",
          "data": {
            "text/plain": [
              "Pipeline(memory=None,\n",
              "         steps=[('vectorizer',\n",
              "                 TfidfVectorizer(analyzer='char', binary=False,\n",
              "                                 decode_error='strict',\n",
              "                                 dtype=<class 'numpy.float64'>,\n",
              "                                 encoding='utf-8', input='content',\n",
              "                                 lowercase=True, max_df=1.0, max_features=None,\n",
              "                                 min_df=1, ngram_range=(1, 2), norm='l2',\n",
              "                                 preprocessor=None, smooth_idf=True,\n",
              "                                 stop_words=None, strip_accents=None,\n",
              "                                 sublinear_tf=False,\n",
              "                                 token_pattern='(?u)\\\\b\\\\w\\\\w+\\\\b',\n",
              "                                 tokenizer=None, use_idf=True,\n",
              "                                 vocabulary=None)),\n",
              "                ('clf',\n",
              "                 LogisticRegression(C=1.0, class_weight=None, dual=False,\n",
              "                                    fit_intercept=True, intercept_scaling=1,\n",
              "                                    l1_ratio=None, max_iter=100,\n",
              "                                    multi_class='auto', n_jobs=-1, penalty='l2',\n",
              "                                    random_state=None, solver='lbfgs',\n",
              "                                    tol=0.0001, verbose=0, warm_start=False))],\n",
              "         verbose=False)"
            ]
          },
          "metadata": {
            "tags": []
          },
          "execution_count": 11
        }
      ]
    },
    {
      "cell_type": "code",
      "metadata": {
        "id": "aZvS8p93t9RD"
      },
      "source": [
        "y_predicted = pipe_lr_r13.predict(x_test)"
      ],
      "execution_count": null,
      "outputs": []
    },
    {
      "cell_type": "code",
      "metadata": {
        "id": "vK0k7R-VuLnM",
        "colab": {
          "base_uri": "https://localhost:8080/"
        },
        "outputId": "88ad38c9-49e7-4f95-a57d-13aecbcf66ba"
      },
      "source": [
        "acc = (metrics.accuracy_score(y_test,y_predicted))*100\r\n",
        "print(acc,'%')"
      ],
      "execution_count": null,
      "outputs": [
        {
          "output_type": "stream",
          "text": [
            "37.03189467568659 %\n"
          ],
          "name": "stdout"
        }
      ]
    },
    {
      "cell_type": "code",
      "metadata": {
        "id": "Ekydna0VvGu1",
        "colab": {
          "base_uri": "https://localhost:8080/"
        },
        "outputId": "c9d9b80b-5e3a-4fcb-f333-aad5fc1abe53"
      },
      "source": [
        "matrix = metrics.confusion_matrix(y_test,y_predicted)\r\n",
        "print('confusion matrix : \\n',matrix)"
      ],
      "execution_count": null,
      "outputs": [
        {
          "output_type": "stream",
          "text": [
            "confusion matrix : \n",
            " [[15215   746 20957  2033  2659]\n",
            " [ 4305 12280 21241  1125  2634]\n",
            " [ 1815  1058 29934  3727  3718]\n",
            " [ 3138   585 23579  7785  4744]\n",
            " [ 2648   702 22914  3564 10000]]\n"
          ],
          "name": "stdout"
        }
      ]
    },
    {
      "cell_type": "code",
      "metadata": {
        "id": "HsySunDHyacy"
      },
      "source": [
        "import pickle\r\n",
        "lrFile = open('LRModel.pckl','wb')\r\n",
        "pickle.dump(pipe_lr_r13,lrFile)\r\n",
        "lrFile.close()"
      ],
      "execution_count": null,
      "outputs": []
    },
    {
      "cell_type": "code",
      "metadata": {
        "id": "zlX1_PI21LrL"
      },
      "source": [
        "def lang_detect(text):\r\n",
        "  import numpy as np\r\n",
        "  import string\r\n",
        "  import re\r\n",
        "  import pickle\r\n",
        "  translate_table = dict ((ord(char),None) for char in string.punctuation)\r\n",
        "\r\n",
        "  global lrLangDetectModel\r\n",
        "  lrLangDetectFile = open('LRModel.pckl','rb')\r\n",
        "  lrLangDetectModel = pickle.load(lrLangDetectFile)\r\n",
        "  lrLangDetectFile.close();\r\n",
        "\r\n",
        "  text = \" \".join(text.split())\r\n",
        "  text = text.lower()\r\n",
        "  text = re.sub(r\"\\d\",\"\",text)\r\n",
        "  text = text.translate(translate_table)\r\n",
        "  pred = lrLangDetectModel.predict([text])\r\n",
        "  prob = lrLangDetectModel.predict_proba([text])\r\n",
        "  return pred[0]"
      ],
      "execution_count": null,
      "outputs": []
    },
    {
      "cell_type": "code",
      "metadata": {
        "id": "zZCd_i9p3BER",
        "colab": {
          "base_uri": "https://localhost:8080/",
          "height": 36
        },
        "outputId": "9e881268-05e2-4d4f-c773-1f1fda1385e8"
      },
      "source": [
        "lang_detect(\"hello i just built my own language detection model\")"
      ],
      "execution_count": null,
      "outputs": [
        {
          "output_type": "execute_result",
          "data": {
            "application/vnd.google.colaboratory.intrinsic+json": {
              "type": "string"
            },
            "text/plain": [
              "'Dutch'"
            ]
          },
          "metadata": {
            "tags": []
          },
          "execution_count": 19
        }
      ]
    },
    {
      "cell_type": "code",
      "metadata": {
        "id": "B21uFZip4RiW",
        "colab": {
          "base_uri": "https://localhost:8080/",
          "height": 36
        },
        "outputId": "fdc6dd06-2c87-494d-bb19-8af37326917c"
      },
      "source": [
        "lang_detect(\"vi\")"
      ],
      "execution_count": null,
      "outputs": [
        {
          "output_type": "execute_result",
          "data": {
            "application/vnd.google.colaboratory.intrinsic+json": {
              "type": "string"
            },
            "text/plain": [
              "'Dutch'"
            ]
          },
          "metadata": {
            "tags": []
          },
          "execution_count": 18
        }
      ]
    }
  ]
}