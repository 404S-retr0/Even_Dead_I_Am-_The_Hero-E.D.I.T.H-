{
  "nbformat": 4,
  "nbformat_minor": 0,
  "metadata": {
    "colab": {
      "name": "Project_HPE_Trail.ipynb",
      "provenance": [],
      "collapsed_sections": [],
      "authorship_tag": "ABX9TyM0t0LKxyqGoWhE9405LFCY",
      "include_colab_link": true
    },
    "kernelspec": {
      "name": "python3",
      "display_name": "Python 3"
    }
  },
  "cells": [
    {
      "cell_type": "markdown",
      "metadata": {
        "id": "view-in-github",
        "colab_type": "text"
      },
      "source": [
        "<a href=\"https://colab.research.google.com/github/404S-retr0/Even_Dead_I_Am-_The_Hero-E.D.I.T.H-/blob/main/Project_HPE_Trail.ipynb\" target=\"_parent\"><img src=\"https://colab.research.google.com/assets/colab-badge.svg\" alt=\"Open In Colab\"/></a>"
      ]
    },
    {
      "cell_type": "code",
      "metadata": {
        "colab": {
          "base_uri": "https://localhost:8080/"
        },
        "id": "rKNKEIvWvrJX",
        "outputId": "5b033eeb-9533-45f8-eafc-737a3b8ab483"
      },
      "source": [
        "import numpy as np\r\n",
        "import pandas as pd\r\n",
        "from sklearn.model_selection import train_test_split\r\n",
        "!wget https://github.com/404S-retr0/Even_Dead_I_Am-_The_Hero-E.D.I.T.H-/blob/main/English_Danish_Dutch.xlsx?raw=true"
      ],
      "execution_count": 1,
      "outputs": [
        {
          "output_type": "stream",
          "text": [
            "--2021-01-27 22:36:10--  https://github.com/404S-retr0/Even_Dead_I_Am-_The_Hero-E.D.I.T.H-/blob/main/English_Danish_Dutch.xlsx?raw=true\n",
            "Resolving github.com (github.com)... 140.82.113.4\n",
            "Connecting to github.com (github.com)|140.82.113.4|:443... connected.\n",
            "HTTP request sent, awaiting response... 302 Found\n",
            "Location: https://github.com/404S-retr0/Even_Dead_I_Am-_The_Hero-E.D.I.T.H-/raw/main/English_Danish_Dutch.xlsx [following]\n",
            "--2021-01-27 22:36:11--  https://github.com/404S-retr0/Even_Dead_I_Am-_The_Hero-E.D.I.T.H-/raw/main/English_Danish_Dutch.xlsx\n",
            "Reusing existing connection to github.com:443.\n",
            "HTTP request sent, awaiting response... 302 Found\n",
            "Location: https://raw.githubusercontent.com/404S-retr0/Even_Dead_I_Am-_The_Hero-E.D.I.T.H-/main/English_Danish_Dutch.xlsx [following]\n",
            "--2021-01-27 22:36:11--  https://raw.githubusercontent.com/404S-retr0/Even_Dead_I_Am-_The_Hero-E.D.I.T.H-/main/English_Danish_Dutch.xlsx\n",
            "Resolving raw.githubusercontent.com (raw.githubusercontent.com)... 151.101.0.133, 151.101.64.133, 151.101.128.133, ...\n",
            "Connecting to raw.githubusercontent.com (raw.githubusercontent.com)|151.101.0.133|:443... connected.\n",
            "HTTP request sent, awaiting response... 200 OK\n",
            "Length: 4549126 (4.3M) [application/octet-stream]\n",
            "Saving to: ‘English_Danish_Dutch.xlsx?raw=true’\n",
            "\n",
            "English_Danish_Dutc 100%[===================>]   4.34M  --.-KB/s    in 0.1s    \n",
            "\n",
            "2021-01-27 22:36:12 (33.7 MB/s) - ‘English_Danish_Dutch.xlsx?raw=true’ saved [4549126/4549126]\n",
            "\n"
          ],
          "name": "stdout"
        }
      ]
    },
    {
      "cell_type": "code",
      "metadata": {
        "id": "tYi8id9xzVS0"
      },
      "source": [
        "df=pd.read_excel('/content/English_Danish_Dutch.xlsx?raw=true')"
      ],
      "execution_count": 2,
      "outputs": []
    },
    {
      "cell_type": "code",
      "metadata": {
        "colab": {
          "base_uri": "https://localhost:8080/",
          "height": 416
        },
        "id": "ujFbxLezzn9e",
        "outputId": "ca626cdd-dc8b-45f4-82dd-c7147e4e9341"
      },
      "source": [
        "df"
      ],
      "execution_count": 3,
      "outputs": [
        {
          "output_type": "execute_result",
          "data": {
            "text/html": [
              "<div>\n",
              "<style scoped>\n",
              "    .dataframe tbody tr th:only-of-type {\n",
              "        vertical-align: middle;\n",
              "    }\n",
              "\n",
              "    .dataframe tbody tr th {\n",
              "        vertical-align: top;\n",
              "    }\n",
              "\n",
              "    .dataframe thead th {\n",
              "        text-align: right;\n",
              "    }\n",
              "</style>\n",
              "<table border=\"1\" class=\"dataframe\">\n",
              "  <thead>\n",
              "    <tr style=\"text-align: right;\">\n",
              "      <th></th>\n",
              "      <th>words</th>\n",
              "      <th>Langauage_vector</th>\n",
              "    </tr>\n",
              "  </thead>\n",
              "  <tbody>\n",
              "    <tr>\n",
              "      <th>0</th>\n",
              "      <td>the</td>\n",
              "      <td>1</td>\n",
              "    </tr>\n",
              "    <tr>\n",
              "      <th>1</th>\n",
              "      <td>to</td>\n",
              "      <td>1</td>\n",
              "    </tr>\n",
              "    <tr>\n",
              "      <th>2</th>\n",
              "      <td>and</td>\n",
              "      <td>1</td>\n",
              "    </tr>\n",
              "    <tr>\n",
              "      <th>3</th>\n",
              "      <td>a</td>\n",
              "      <td>1</td>\n",
              "    </tr>\n",
              "    <tr>\n",
              "      <th>4</th>\n",
              "      <td>of</td>\n",
              "      <td>1</td>\n",
              "    </tr>\n",
              "    <tr>\n",
              "      <th>...</th>\n",
              "      <td>...</td>\n",
              "      <td>...</td>\n",
              "    </tr>\n",
              "    <tr>\n",
              "      <th>257363</th>\n",
              "      <td>geurloze</td>\n",
              "      <td>3</td>\n",
              "    </tr>\n",
              "    <tr>\n",
              "      <th>257364</th>\n",
              "      <td>straftijd</td>\n",
              "      <td>3</td>\n",
              "    </tr>\n",
              "    <tr>\n",
              "      <th>257365</th>\n",
              "      <td>strafvordering</td>\n",
              "      <td>3</td>\n",
              "    </tr>\n",
              "    <tr>\n",
              "      <th>257366</th>\n",
              "      <td>onbekommerde</td>\n",
              "      <td>3</td>\n",
              "    </tr>\n",
              "    <tr>\n",
              "      <th>257367</th>\n",
              "      <td>opgeschuurd</td>\n",
              "      <td>3</td>\n",
              "    </tr>\n",
              "  </tbody>\n",
              "</table>\n",
              "<p>257368 rows × 2 columns</p>\n",
              "</div>"
            ],
            "text/plain": [
              "                 words  Langauage_vector\n",
              "0                  the                 1\n",
              "1                   to                 1\n",
              "2                  and                 1\n",
              "3                    a                 1\n",
              "4                   of                 1\n",
              "...                ...               ...\n",
              "257363        geurloze                 3\n",
              "257364       straftijd                 3\n",
              "257365  strafvordering                 3\n",
              "257366    onbekommerde                 3\n",
              "257367     opgeschuurd                 3\n",
              "\n",
              "[257368 rows x 2 columns]"
            ]
          },
          "metadata": {
            "tags": []
          },
          "execution_count": 3
        }
      ]
    },
    {
      "cell_type": "code",
      "metadata": {
        "id": "NFfADu_L1a9_"
      },
      "source": [
        "int2word = {}\r\n",
        "word2int = {}\r\n",
        "vocab_size = len(df.words)\r\n",
        "for i,word in enumerate(df['words'].values):\r\n",
        "  int2word[i] = df.words[i] \r\n",
        "  word2int[df.words[i]] = i"
      ],
      "execution_count": 4,
      "outputs": []
    },
    {
      "cell_type": "code",
      "metadata": {
        "id": "b6VfDYI09Zjk"
      },
      "source": [
        "df['int2word'] = int2word"
      ],
      "execution_count": 5,
      "outputs": []
    },
    {
      "cell_type": "code",
      "metadata": {
        "colab": {
          "base_uri": "https://localhost:8080/",
          "height": 416
        },
        "id": "i0kTGDyw9fQ1",
        "outputId": "33626942-9467-40a7-b216-dc57e72924d5"
      },
      "source": [
        "df"
      ],
      "execution_count": 6,
      "outputs": [
        {
          "output_type": "execute_result",
          "data": {
            "text/html": [
              "<div>\n",
              "<style scoped>\n",
              "    .dataframe tbody tr th:only-of-type {\n",
              "        vertical-align: middle;\n",
              "    }\n",
              "\n",
              "    .dataframe tbody tr th {\n",
              "        vertical-align: top;\n",
              "    }\n",
              "\n",
              "    .dataframe thead th {\n",
              "        text-align: right;\n",
              "    }\n",
              "</style>\n",
              "<table border=\"1\" class=\"dataframe\">\n",
              "  <thead>\n",
              "    <tr style=\"text-align: right;\">\n",
              "      <th></th>\n",
              "      <th>words</th>\n",
              "      <th>Langauage_vector</th>\n",
              "      <th>int2word</th>\n",
              "    </tr>\n",
              "  </thead>\n",
              "  <tbody>\n",
              "    <tr>\n",
              "      <th>0</th>\n",
              "      <td>the</td>\n",
              "      <td>1</td>\n",
              "      <td>0</td>\n",
              "    </tr>\n",
              "    <tr>\n",
              "      <th>1</th>\n",
              "      <td>to</td>\n",
              "      <td>1</td>\n",
              "      <td>1</td>\n",
              "    </tr>\n",
              "    <tr>\n",
              "      <th>2</th>\n",
              "      <td>and</td>\n",
              "      <td>1</td>\n",
              "      <td>2</td>\n",
              "    </tr>\n",
              "    <tr>\n",
              "      <th>3</th>\n",
              "      <td>a</td>\n",
              "      <td>1</td>\n",
              "      <td>3</td>\n",
              "    </tr>\n",
              "    <tr>\n",
              "      <th>4</th>\n",
              "      <td>of</td>\n",
              "      <td>1</td>\n",
              "      <td>4</td>\n",
              "    </tr>\n",
              "    <tr>\n",
              "      <th>...</th>\n",
              "      <td>...</td>\n",
              "      <td>...</td>\n",
              "      <td>...</td>\n",
              "    </tr>\n",
              "    <tr>\n",
              "      <th>257363</th>\n",
              "      <td>geurloze</td>\n",
              "      <td>3</td>\n",
              "      <td>257363</td>\n",
              "    </tr>\n",
              "    <tr>\n",
              "      <th>257364</th>\n",
              "      <td>straftijd</td>\n",
              "      <td>3</td>\n",
              "      <td>257364</td>\n",
              "    </tr>\n",
              "    <tr>\n",
              "      <th>257365</th>\n",
              "      <td>strafvordering</td>\n",
              "      <td>3</td>\n",
              "      <td>257365</td>\n",
              "    </tr>\n",
              "    <tr>\n",
              "      <th>257366</th>\n",
              "      <td>onbekommerde</td>\n",
              "      <td>3</td>\n",
              "      <td>257366</td>\n",
              "    </tr>\n",
              "    <tr>\n",
              "      <th>257367</th>\n",
              "      <td>opgeschuurd</td>\n",
              "      <td>3</td>\n",
              "      <td>257367</td>\n",
              "    </tr>\n",
              "  </tbody>\n",
              "</table>\n",
              "<p>257368 rows × 3 columns</p>\n",
              "</div>"
            ],
            "text/plain": [
              "                 words  Langauage_vector  int2word\n",
              "0                  the                 1         0\n",
              "1                   to                 1         1\n",
              "2                  and                 1         2\n",
              "3                    a                 1         3\n",
              "4                   of                 1         4\n",
              "...                ...               ...       ...\n",
              "257363        geurloze                 3    257363\n",
              "257364       straftijd                 3    257364\n",
              "257365  strafvordering                 3    257365\n",
              "257366    onbekommerde                 3    257366\n",
              "257367     opgeschuurd                 3    257367\n",
              "\n",
              "[257368 rows x 3 columns]"
            ]
          },
          "metadata": {
            "tags": []
          },
          "execution_count": 6
        }
      ]
    },
    {
      "cell_type": "code",
      "metadata": {
        "colab": {
          "base_uri": "https://localhost:8080/"
        },
        "id": "xCiq0cGQw0KI",
        "outputId": "3fd9e0db-ab31-4e6f-9707-3d1f3b8c9c49"
      },
      "source": [
        "x,y=df['int2word'].values,df['Langauage_vector'].values\r\n",
        "x=x.reshape(-1,1)\r\n",
        "y=y.reshape(-1,1)\r\n",
        "x_train,x_test,y_train,y_test=train_test_split(x,y,test_size=0.2,random_state=1)\r\n",
        "\r\n",
        "print(x_train.shape)\r\n",
        "print(x_test.shape)\r\n",
        "print(y_train.shape)\r\n",
        "print(y_test.shape)"
      ],
      "execution_count": 223,
      "outputs": [
        {
          "output_type": "stream",
          "text": [
            "(205894, 1)\n",
            "(51474, 1)\n",
            "(205894, 1)\n",
            "(51474, 1)\n"
          ],
          "name": "stdout"
        }
      ]
    },
    {
      "cell_type": "code",
      "metadata": {
        "colab": {
          "base_uri": "https://localhost:8080/"
        },
        "id": "UOwEKmIDAs3p",
        "outputId": "078971b2-dccf-4bdd-a9fb-d979bfa1aad1"
      },
      "source": [
        "x[300][0]"
      ],
      "execution_count": 82,
      "outputs": [
        {
          "output_type": "execute_result",
          "data": {
            "text/plain": [
              "300"
            ]
          },
          "metadata": {
            "tags": []
          },
          "execution_count": 82
        }
      ]
    },
    {
      "cell_type": "code",
      "metadata": {
        "colab": {
          "base_uri": "https://localhost:8080/"
        },
        "id": "drlhznj4xPkg",
        "outputId": "674ee033-ba0b-4c17-d608-10eadea0cc20"
      },
      "source": [
        "from sklearn.neighbors import KNeighborsClassifier\r\n",
        "# Create KNN classifier\r\n",
        "knn = KNeighborsClassifier(n_neighbors = 3)\r\n",
        "# Fit the classifier to the data\r\n",
        "knn.fit(x_train,y_train)"
      ],
      "execution_count": 224,
      "outputs": [
        {
          "output_type": "stream",
          "text": [
            "/usr/local/lib/python3.6/dist-packages/ipykernel_launcher.py:5: DataConversionWarning: A column-vector y was passed when a 1d array was expected. Please change the shape of y to (n_samples, ), for example using ravel().\n",
            "  \"\"\"\n"
          ],
          "name": "stderr"
        },
        {
          "output_type": "execute_result",
          "data": {
            "text/plain": [
              "KNeighborsClassifier(algorithm='auto', leaf_size=30, metric='minkowski',\n",
              "                     metric_params=None, n_jobs=None, n_neighbors=3, p=2,\n",
              "                     weights='uniform')"
            ]
          },
          "metadata": {
            "tags": []
          },
          "execution_count": 224
        }
      ]
    },
    {
      "cell_type": "code",
      "metadata": {
        "colab": {
          "base_uri": "https://localhost:8080/"
        },
        "id": "K9nVDCKVCLsc",
        "outputId": "6f233fdc-0349-4c41-faf4-065efca839b6"
      },
      "source": [
        "knn.score(x_test, y_test)"
      ],
      "execution_count": 225,
      "outputs": [
        {
          "output_type": "execute_result",
          "data": {
            "text/plain": [
              "0.9999805727163228"
            ]
          },
          "metadata": {
            "tags": []
          },
          "execution_count": 225
        }
      ]
    },
    {
      "cell_type": "code",
      "metadata": {
        "colab": {
          "base_uri": "https://localhost:8080/"
        },
        "id": "VsYWQCKzCx57",
        "outputId": "04dcde74-543a-4cba-9e3c-ef8e4e9d8a33"
      },
      "source": [
        "x_test[0:5]"
      ],
      "execution_count": 85,
      "outputs": [
        {
          "output_type": "execute_result",
          "data": {
            "text/plain": [
              "array([[ 66450],\n",
              "       [175930],\n",
              "       [238928],\n",
              "       [ 29102],\n",
              "       [131947]])"
            ]
          },
          "metadata": {
            "tags": []
          },
          "execution_count": 85
        }
      ]
    },
    {
      "cell_type": "code",
      "metadata": {
        "colab": {
          "base_uri": "https://localhost:8080/"
        },
        "id": "2xit3_ndCtB6",
        "outputId": "d92f6d2c-1c9f-4237-90fc-1c59654cc3ea"
      },
      "source": [
        "knn.predict(x_test)[0:5]"
      ],
      "execution_count": 86,
      "outputs": [
        {
          "output_type": "execute_result",
          "data": {
            "text/plain": [
              "array([1, 2, 3, 1, 2])"
            ]
          },
          "metadata": {
            "tags": []
          },
          "execution_count": 86
        }
      ]
    },
    {
      "cell_type": "code",
      "metadata": {
        "id": "HY_hMulsASUA"
      },
      "source": [
        "text1='hello my name is'"
      ],
      "execution_count": 87,
      "outputs": []
    },
    {
      "cell_type": "code",
      "metadata": {
        "colab": {
          "base_uri": "https://localhost:8080/"
        },
        "id": "ocm8juprKvQQ",
        "outputId": "92a05658-14fa-4db7-f4dd-cc7818fa1411"
      },
      "source": [
        "knn.predict(x)[word2int['my']]"
      ],
      "execution_count": 191,
      "outputs": [
        {
          "output_type": "execute_result",
          "data": {
            "text/plain": [
              "1"
            ]
          },
          "metadata": {
            "tags": []
          },
          "execution_count": 191
        }
      ]
    },
    {
      "cell_type": "code",
      "metadata": {
        "id": "ZMBCCz5gJ8bM"
      },
      "source": [
        "def lang_detect_in_percentage(text):\r\n",
        "  import string\r\n",
        "  import re\r\n",
        "  test_str=text\r\n",
        "  test_str = ''.join([i for i in test_str if not i.isdigit()]) \r\n",
        "  test_str=test_str.lower()\r\n",
        "  punc = '''!()-[]{};:'\"\\,<>./?@#$%^&*_~+-=|`'''\r\n",
        "\r\n",
        "  for ele in test_str:\r\n",
        "    if ele in punc:\r\n",
        "      test_str = test_str.replace(ele, \"\")  \r\n",
        "\r\n",
        "  test_str_split=re.split('\\s+', test_str)\r\n",
        "  \r\n",
        "  if (test_str_split[0]==''):\r\n",
        "    test_str_split.remove('')\r\n",
        "  if (test_str_split[len(test_str_split)-1]==''):\r\n",
        "    test_str_split.remove('')\r\n",
        "  \r\n",
        "\r\n",
        "  eng=0\r\n",
        "  dan=0\r\n",
        "  dut=0\r\n",
        "  unknown=0\r\n",
        "\r\n",
        "  list_length = len(test_str_split)\r\n",
        "  for q in range(list_length):\r\n",
        "    try:\r\n",
        "      vec=word2int[test_str_split[q]]\r\n",
        "      pre=knn.predict(x)[vec]\r\n",
        "    except:\r\n",
        "      pre=-1\r\n",
        "    else:\r\n",
        "      if (pre==1):\r\n",
        "        eng +=1\r\n",
        "      elif (pre==2):\r\n",
        "        dan +=1\r\n",
        "      elif (pre==3):\r\n",
        "        dut +=1\r\n",
        "      else:\r\n",
        "       unknown +=1\r\n",
        "    \r\n",
        "    if (pre==-1):\r\n",
        "      unknown +=1\r\n",
        "\r\n",
        "\r\n",
        "  p_eng=(eng/(eng+dan+dut+unknown))\r\n",
        "  p_dan=(dan/(eng+dan+dut+unknown))\r\n",
        "  p_dut=(dut/(eng+dan+dut+unknown))\r\n",
        "  p_unk=(unknown/(eng+dan+dut+unknown))\r\n",
        "  report = \"Percentage Distribution\\nEnglish:-{}\\nDanish:-{}\\nDutch:-{}\\nUnknown:-{}\".format( p_eng,p_dan,p_dut,p_unk)\r\n",
        "  print(report)"
      ],
      "execution_count": 245,
      "outputs": []
    },
    {
      "cell_type": "code",
      "metadata": {
        "colab": {
          "base_uri": "https://localhost:8080/"
        },
        "id": "KkRffTbgbLfj",
        "outputId": "d0b512de-3f30-480e-cfbf-4cb22d840285"
      },
      "source": [
        "lang_detect_in_percentage('hello my name is markeerde')"
      ],
      "execution_count": 246,
      "outputs": [
        {
          "output_type": "stream",
          "text": [
            "Percentage Distribution\n",
            "English:-0.8\n",
            "Danish:-0.0\n",
            "Dutch:-0.2\n",
            "Unknown:-0.0\n"
          ],
          "name": "stdout"
        }
      ]
    }
  ]
}